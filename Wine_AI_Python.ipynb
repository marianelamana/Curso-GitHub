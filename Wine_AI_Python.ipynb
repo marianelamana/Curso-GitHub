{
  "nbformat": 4,
  "nbformat_minor": 0,
  "metadata": {
    "colab": {
      "name": "Wine-AI-Python.ipynb",
      "provenance": [],
      "authorship_tag": "ABX9TyOLVhzmMTKIlTIuI8ANIxPi",
      "include_colab_link": true
    },
    "kernelspec": {
      "name": "python3",
      "display_name": "Python 3"
    },
    "language_info": {
      "name": "python"
    }
  },
  "cells": [
    {
      "cell_type": "markdown",
      "metadata": {
        "id": "view-in-github",
        "colab_type": "text"
      },
      "source": [
        "<a href=\"https://colab.research.google.com/github/marianelamana/Curso-GitHub/blob/add-license-1/Wine_AI_Python.ipynb\" target=\"_parent\"><img src=\"https://colab.research.google.com/assets/colab-badge.svg\" alt=\"Open In Colab\"/></a>"
      ]
    },
    {
      "cell_type": "code",
      "metadata": {
        "id": "49ZwQQDO-jMq"
      },
      "source": [
        "import pandas as pd\n",
        "from sklearn.model_selection import train_test_split\n",
        "from sklearn.ensemble import ExtraTreesClassifier"
      ],
      "execution_count": 1,
      "outputs": []
    },
    {
      "cell_type": "code",
      "metadata": {
        "colab": {
          "base_uri": "https://localhost:8080/",
          "height": 224
        },
        "id": "gSc0Ip-oGGjn",
        "outputId": "96c1e695-c63e-4867-b76d-4951c329de93"
      },
      "source": [
        "arquivo = pd.read_csv(\"/content/wine_dataset.csv\")\n",
        "arquivo.head()"
      ],
      "execution_count": 2,
      "outputs": [
        {
          "output_type": "execute_result",
          "data": {
            "text/html": [
              "<div>\n",
              "<style scoped>\n",
              "    .dataframe tbody tr th:only-of-type {\n",
              "        vertical-align: middle;\n",
              "    }\n",
              "\n",
              "    .dataframe tbody tr th {\n",
              "        vertical-align: top;\n",
              "    }\n",
              "\n",
              "    .dataframe thead th {\n",
              "        text-align: right;\n",
              "    }\n",
              "</style>\n",
              "<table border=\"1\" class=\"dataframe\">\n",
              "  <thead>\n",
              "    <tr style=\"text-align: right;\">\n",
              "      <th></th>\n",
              "      <th>fixed_acidity</th>\n",
              "      <th>volatile_acidity</th>\n",
              "      <th>citric_acid</th>\n",
              "      <th>residual_sugar</th>\n",
              "      <th>chlorides</th>\n",
              "      <th>free_sulfur_dioxide</th>\n",
              "      <th>total_sulfur_dioxide</th>\n",
              "      <th>density</th>\n",
              "      <th>pH</th>\n",
              "      <th>sulphates</th>\n",
              "      <th>alcohol</th>\n",
              "      <th>quality</th>\n",
              "      <th>style</th>\n",
              "    </tr>\n",
              "  </thead>\n",
              "  <tbody>\n",
              "    <tr>\n",
              "      <th>0</th>\n",
              "      <td>7.4</td>\n",
              "      <td>0.70</td>\n",
              "      <td>0.00</td>\n",
              "      <td>1.9</td>\n",
              "      <td>0.076</td>\n",
              "      <td>11.0</td>\n",
              "      <td>34.0</td>\n",
              "      <td>0.9978</td>\n",
              "      <td>3.51</td>\n",
              "      <td>0.56</td>\n",
              "      <td>9.4</td>\n",
              "      <td>5</td>\n",
              "      <td>red</td>\n",
              "    </tr>\n",
              "    <tr>\n",
              "      <th>1</th>\n",
              "      <td>7.8</td>\n",
              "      <td>0.88</td>\n",
              "      <td>0.00</td>\n",
              "      <td>2.6</td>\n",
              "      <td>0.098</td>\n",
              "      <td>25.0</td>\n",
              "      <td>67.0</td>\n",
              "      <td>0.9968</td>\n",
              "      <td>3.20</td>\n",
              "      <td>0.68</td>\n",
              "      <td>9.8</td>\n",
              "      <td>5</td>\n",
              "      <td>red</td>\n",
              "    </tr>\n",
              "    <tr>\n",
              "      <th>2</th>\n",
              "      <td>7.8</td>\n",
              "      <td>0.76</td>\n",
              "      <td>0.04</td>\n",
              "      <td>2.3</td>\n",
              "      <td>0.092</td>\n",
              "      <td>15.0</td>\n",
              "      <td>54.0</td>\n",
              "      <td>0.9970</td>\n",
              "      <td>3.26</td>\n",
              "      <td>0.65</td>\n",
              "      <td>9.8</td>\n",
              "      <td>5</td>\n",
              "      <td>red</td>\n",
              "    </tr>\n",
              "    <tr>\n",
              "      <th>3</th>\n",
              "      <td>11.2</td>\n",
              "      <td>0.28</td>\n",
              "      <td>0.56</td>\n",
              "      <td>1.9</td>\n",
              "      <td>0.075</td>\n",
              "      <td>17.0</td>\n",
              "      <td>60.0</td>\n",
              "      <td>0.9980</td>\n",
              "      <td>3.16</td>\n",
              "      <td>0.58</td>\n",
              "      <td>9.8</td>\n",
              "      <td>6</td>\n",
              "      <td>red</td>\n",
              "    </tr>\n",
              "    <tr>\n",
              "      <th>4</th>\n",
              "      <td>7.4</td>\n",
              "      <td>0.70</td>\n",
              "      <td>0.00</td>\n",
              "      <td>1.9</td>\n",
              "      <td>0.076</td>\n",
              "      <td>11.0</td>\n",
              "      <td>34.0</td>\n",
              "      <td>0.9978</td>\n",
              "      <td>3.51</td>\n",
              "      <td>0.56</td>\n",
              "      <td>9.4</td>\n",
              "      <td>5</td>\n",
              "      <td>red</td>\n",
              "    </tr>\n",
              "  </tbody>\n",
              "</table>\n",
              "</div>"
            ],
            "text/plain": [
              "   fixed_acidity  volatile_acidity  citric_acid  ...  alcohol  quality  style\n",
              "0            7.4              0.70         0.00  ...      9.4        5    red\n",
              "1            7.8              0.88         0.00  ...      9.8        5    red\n",
              "2            7.8              0.76         0.04  ...      9.8        5    red\n",
              "3           11.2              0.28         0.56  ...      9.8        6    red\n",
              "4            7.4              0.70         0.00  ...      9.4        5    red\n",
              "\n",
              "[5 rows x 13 columns]"
            ]
          },
          "metadata": {
            "tags": []
          },
          "execution_count": 2
        }
      ]
    },
    {
      "cell_type": "code",
      "metadata": {
        "id": "2wt40awUG48S"
      },
      "source": [
        "arquivo[\"style\"] = arquivo[\"style\"].replace(\"red\", 0)\n",
        "arquivo[\"style\"] = arquivo[\"style\"].replace(\"white\", 1)"
      ],
      "execution_count": 3,
      "outputs": []
    },
    {
      "cell_type": "code",
      "metadata": {
        "id": "dMXX1nFfHA9K"
      },
      "source": [
        "# Separando as variáveis entre preditoras e variável alvo\n",
        "y = arquivo[\"style\"]\n",
        "x = arquivo.drop(\"style\", axis = 1)"
      ],
      "execution_count": 4,
      "outputs": []
    },
    {
      "cell_type": "code",
      "metadata": {
        "id": "khg5VN32HGB7"
      },
      "source": [
        "from sklearn.model_selection import train_test_split\n",
        "\n",
        "#Criando os conjuntos de dados de treino e teste\n",
        "# 30% das amostras será para testes e 70% para treino\n",
        "x_treino, x_teste, y_treino, y_teste = train_test_split(x, y, test_size = 0.3) "
      ],
      "execution_count": 5,
      "outputs": []
    },
    {
      "cell_type": "code",
      "metadata": {
        "colab": {
          "base_uri": "https://localhost:8080/"
        },
        "id": "u7Y0r-kVHXyL",
        "outputId": "1223e1c1-25dc-4d6d-cd97-06a98a7d389b"
      },
      "source": [
        "from sklearn.ensemble import ExtraTreesClassifier\n",
        "# Criação de modelo:\n",
        "modelo = ExtraTreesClassifier()\n",
        "modelo.fit(x_treino,y_treino)\n",
        "\n",
        "# Imprimindo os resultados\n",
        "resultado = modelo.score(x_teste, y_teste)\n",
        "print(\"Acurácia: \", resultado)"
      ],
      "execution_count": 6,
      "outputs": [
        {
          "output_type": "stream",
          "text": [
            "Acurácia:  0.9948717948717949\n"
          ],
          "name": "stdout"
        }
      ]
    },
    {
      "cell_type": "code",
      "metadata": {
        "colab": {
          "base_uri": "https://localhost:8080/"
        },
        "id": "n-_7WXWoHeJt",
        "outputId": "c8b99cd4-c472-4c69-f7f5-c8ea148acca9"
      },
      "source": [
        "# Testando com IDs aleatórios\n",
        "y_teste[456:465]"
      ],
      "execution_count": 10,
      "outputs": [
        {
          "output_type": "execute_result",
          "data": {
            "text/plain": [
              "5653    1\n",
              "6175    1\n",
              "243     0\n",
              "761     0\n",
              "3268    1\n",
              "3767    1\n",
              "3424    1\n",
              "5272    1\n",
              "3001    1\n",
              "Name: style, dtype: int64"
            ]
          },
          "metadata": {
            "tags": []
          },
          "execution_count": 10
        }
      ]
    },
    {
      "cell_type": "code",
      "metadata": {
        "colab": {
          "base_uri": "https://localhost:8080/",
          "height": 348
        },
        "id": "l6qGZV36HoKt",
        "outputId": "29f5d9b9-1e93-435d-c9e5-70e17c8ae5e4"
      },
      "source": [
        "x_teste[456:465]"
      ],
      "execution_count": 11,
      "outputs": [
        {
          "output_type": "execute_result",
          "data": {
            "text/html": [
              "<div>\n",
              "<style scoped>\n",
              "    .dataframe tbody tr th:only-of-type {\n",
              "        vertical-align: middle;\n",
              "    }\n",
              "\n",
              "    .dataframe tbody tr th {\n",
              "        vertical-align: top;\n",
              "    }\n",
              "\n",
              "    .dataframe thead th {\n",
              "        text-align: right;\n",
              "    }\n",
              "</style>\n",
              "<table border=\"1\" class=\"dataframe\">\n",
              "  <thead>\n",
              "    <tr style=\"text-align: right;\">\n",
              "      <th></th>\n",
              "      <th>fixed_acidity</th>\n",
              "      <th>volatile_acidity</th>\n",
              "      <th>citric_acid</th>\n",
              "      <th>residual_sugar</th>\n",
              "      <th>chlorides</th>\n",
              "      <th>free_sulfur_dioxide</th>\n",
              "      <th>total_sulfur_dioxide</th>\n",
              "      <th>density</th>\n",
              "      <th>pH</th>\n",
              "      <th>sulphates</th>\n",
              "      <th>alcohol</th>\n",
              "      <th>quality</th>\n",
              "    </tr>\n",
              "  </thead>\n",
              "  <tbody>\n",
              "    <tr>\n",
              "      <th>5653</th>\n",
              "      <td>7.2</td>\n",
              "      <td>0.170</td>\n",
              "      <td>0.28</td>\n",
              "      <td>17.55</td>\n",
              "      <td>0.050</td>\n",
              "      <td>33.0</td>\n",
              "      <td>154.0</td>\n",
              "      <td>0.99971</td>\n",
              "      <td>2.94</td>\n",
              "      <td>0.43</td>\n",
              "      <td>9.0</td>\n",
              "      <td>7</td>\n",
              "    </tr>\n",
              "    <tr>\n",
              "      <th>6175</th>\n",
              "      <td>5.9</td>\n",
              "      <td>0.300</td>\n",
              "      <td>0.29</td>\n",
              "      <td>1.10</td>\n",
              "      <td>0.036</td>\n",
              "      <td>23.0</td>\n",
              "      <td>56.0</td>\n",
              "      <td>0.99040</td>\n",
              "      <td>3.19</td>\n",
              "      <td>0.38</td>\n",
              "      <td>11.3</td>\n",
              "      <td>5</td>\n",
              "    </tr>\n",
              "    <tr>\n",
              "      <th>243</th>\n",
              "      <td>15.0</td>\n",
              "      <td>0.210</td>\n",
              "      <td>0.44</td>\n",
              "      <td>2.20</td>\n",
              "      <td>0.075</td>\n",
              "      <td>10.0</td>\n",
              "      <td>24.0</td>\n",
              "      <td>1.00005</td>\n",
              "      <td>3.07</td>\n",
              "      <td>0.84</td>\n",
              "      <td>9.2</td>\n",
              "      <td>7</td>\n",
              "    </tr>\n",
              "    <tr>\n",
              "      <th>761</th>\n",
              "      <td>9.3</td>\n",
              "      <td>0.655</td>\n",
              "      <td>0.26</td>\n",
              "      <td>2.00</td>\n",
              "      <td>0.096</td>\n",
              "      <td>5.0</td>\n",
              "      <td>35.0</td>\n",
              "      <td>0.99738</td>\n",
              "      <td>3.25</td>\n",
              "      <td>0.42</td>\n",
              "      <td>9.6</td>\n",
              "      <td>5</td>\n",
              "    </tr>\n",
              "    <tr>\n",
              "      <th>3268</th>\n",
              "      <td>7.1</td>\n",
              "      <td>0.310</td>\n",
              "      <td>0.38</td>\n",
              "      <td>1.20</td>\n",
              "      <td>0.036</td>\n",
              "      <td>10.0</td>\n",
              "      <td>124.0</td>\n",
              "      <td>0.99240</td>\n",
              "      <td>3.14</td>\n",
              "      <td>0.44</td>\n",
              "      <td>9.9</td>\n",
              "      <td>6</td>\n",
              "    </tr>\n",
              "    <tr>\n",
              "      <th>3767</th>\n",
              "      <td>7.4</td>\n",
              "      <td>0.190</td>\n",
              "      <td>0.30</td>\n",
              "      <td>12.80</td>\n",
              "      <td>0.053</td>\n",
              "      <td>48.5</td>\n",
              "      <td>229.0</td>\n",
              "      <td>0.99860</td>\n",
              "      <td>3.14</td>\n",
              "      <td>0.49</td>\n",
              "      <td>9.1</td>\n",
              "      <td>7</td>\n",
              "    </tr>\n",
              "    <tr>\n",
              "      <th>3424</th>\n",
              "      <td>7.1</td>\n",
              "      <td>0.320</td>\n",
              "      <td>0.40</td>\n",
              "      <td>1.50</td>\n",
              "      <td>0.034</td>\n",
              "      <td>13.0</td>\n",
              "      <td>84.0</td>\n",
              "      <td>0.99440</td>\n",
              "      <td>3.42</td>\n",
              "      <td>0.60</td>\n",
              "      <td>10.4</td>\n",
              "      <td>5</td>\n",
              "    </tr>\n",
              "    <tr>\n",
              "      <th>5272</th>\n",
              "      <td>5.4</td>\n",
              "      <td>0.300</td>\n",
              "      <td>0.30</td>\n",
              "      <td>1.20</td>\n",
              "      <td>0.029</td>\n",
              "      <td>25.0</td>\n",
              "      <td>93.0</td>\n",
              "      <td>0.98742</td>\n",
              "      <td>3.31</td>\n",
              "      <td>0.40</td>\n",
              "      <td>13.6</td>\n",
              "      <td>7</td>\n",
              "    </tr>\n",
              "    <tr>\n",
              "      <th>3001</th>\n",
              "      <td>7.4</td>\n",
              "      <td>0.400</td>\n",
              "      <td>0.29</td>\n",
              "      <td>5.40</td>\n",
              "      <td>0.044</td>\n",
              "      <td>31.0</td>\n",
              "      <td>122.0</td>\n",
              "      <td>0.99400</td>\n",
              "      <td>3.30</td>\n",
              "      <td>0.50</td>\n",
              "      <td>11.1</td>\n",
              "      <td>8</td>\n",
              "    </tr>\n",
              "  </tbody>\n",
              "</table>\n",
              "</div>"
            ],
            "text/plain": [
              "      fixed_acidity  volatile_acidity  citric_acid  ...  sulphates  alcohol  quality\n",
              "5653            7.2             0.170         0.28  ...       0.43      9.0        7\n",
              "6175            5.9             0.300         0.29  ...       0.38     11.3        5\n",
              "243            15.0             0.210         0.44  ...       0.84      9.2        7\n",
              "761             9.3             0.655         0.26  ...       0.42      9.6        5\n",
              "3268            7.1             0.310         0.38  ...       0.44      9.9        6\n",
              "3767            7.4             0.190         0.30  ...       0.49      9.1        7\n",
              "3424            7.1             0.320         0.40  ...       0.60     10.4        5\n",
              "5272            5.4             0.300         0.30  ...       0.40     13.6        7\n",
              "3001            7.4             0.400         0.29  ...       0.50     11.1        8\n",
              "\n",
              "[9 rows x 12 columns]"
            ]
          },
          "metadata": {
            "tags": []
          },
          "execution_count": 11
        }
      ]
    },
    {
      "cell_type": "code",
      "metadata": {
        "id": "NZ2_l7WVHuOP"
      },
      "source": [
        "previsoes = modelo.predict(x_teste[456:465])"
      ],
      "execution_count": 12,
      "outputs": []
    },
    {
      "cell_type": "code",
      "metadata": {
        "colab": {
          "base_uri": "https://localhost:8080/"
        },
        "id": "bZ4SFKMrH1pM",
        "outputId": "fc2b2059-62e4-49ee-881d-338bf6e2818e"
      },
      "source": [
        "previsoes"
      ],
      "execution_count": 13,
      "outputs": [
        {
          "output_type": "execute_result",
          "data": {
            "text/plain": [
              "array([1, 1, 0, 0, 1, 1, 1, 1, 1])"
            ]
          },
          "metadata": {
            "tags": []
          },
          "execution_count": 13
        }
      ]
    }
  ]
}